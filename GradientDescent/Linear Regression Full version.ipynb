{
 "cells": [
  {
   "cell_type": "code",
   "execution_count": 1,
   "metadata": {},
   "outputs": [],
   "source": [
    "import torch\n",
    "import matplotlib.pyplot as plt"
   ]
  },
  {
   "cell_type": "code",
   "execution_count": 2,
   "metadata": {},
   "outputs": [],
   "source": [
    "x = torch.arange(0.,6.)"
   ]
  },
  {
   "cell_type": "code",
   "execution_count": 3,
   "metadata": {},
   "outputs": [],
   "source": [
    "w = torch.rand(1, requires_grad=True)"
   ]
  },
  {
   "cell_type": "code",
   "execution_count": 4,
   "metadata": {},
   "outputs": [],
   "source": [
    "def f(x):\n",
    "    return 3*x"
   ]
  },
  {
   "cell_type": "code",
   "execution_count": 5,
   "metadata": {},
   "outputs": [],
   "source": [
    "y_true = f(x)"
   ]
  },
  {
   "cell_type": "markdown",
   "metadata": {},
   "source": [
    "# Understanding the Loss and Parameters relationships"
   ]
  },
  {
   "cell_type": "code",
   "execution_count": 6,
   "metadata": {},
   "outputs": [],
   "source": [
    "loss_list = []\n",
    "w_grad = []\n",
    "\n",
    "w_range = torch.arange(-5.,6., requires_grad=True)\n",
    "for w_temp in w_range:\n",
    "    y_pred = x*w_temp\n",
    "    loss = (y_pred-y_true)**2\n",
    "    loss_list.append(loss.mean())\n",
    "    loss.mean().backward()"
   ]
  },
  {
   "cell_type": "code",
   "execution_count": 7,
   "metadata": {},
   "outputs": [
    {
     "data": {
      "text/plain": [
       "Text(0, 0.5, 'loss')"
      ]
     },
     "execution_count": 7,
     "metadata": {},
     "output_type": "execute_result"
    },
    {
     "data": {
      "image/png": "[encoded data removed]",
      "text/plain": [
       "<Figure size 432x288 with 1 Axes>"
      ]
     },
     "metadata": {
      "needs_background": "light"
     },
     "output_type": "display_data"
    }
   ],
   "source": [
    "plt.plot(w_range.detach().numpy(), loss_list)\n",
    "plt.title(\"Loss vs Parameters\", fontsize=18)\n",
    "plt.tick_params(axis='both', labelsize=12)\n",
    "plt.xlabel('w', fontsize=16)\n",
    "plt.ylabel('loss', fontsize=16)"
   ]
  },
  {
   "cell_type": "code",
   "execution_count": 8,
   "metadata": {},
   "outputs": [
    {
     "data": {
      "image/png": "[encoded data removed]",
      "text/plain": [
       "<Figure size 432x288 with 1 Axes>"
      ]
     },
     "metadata": {
      "needs_background": "light"
     },
     "output_type": "display_data"
    }
   ],
   "source": [
    "plt.plot(w_range.detach().numpy(), w_range.grad.numpy())\n",
    "plt.title(\"Loss vs Parameters\", fontsize=18)\n",
    "plt.tick_params(axis='both', labelsize=12)\n",
    "plt.xlabel('w', fontsize=16)\n",
    "plt.ylabel('loss', fontsize=16)\n",
    "plt.grid(True)"
   ]
  },
  {
   "cell_type": "markdown",
   "metadata": {},
   "source": [
    "# Backpropagation"
   ]
  },
  {
   "cell_type": "markdown",
   "metadata": {},
   "source": [
    "$ \\large\n",
    "\\begin{align} \n",
    "\\frac{\\partial{J}}{\\partial{w}} &= \\frac{\\partial{}}{\\partial{w}}\\sum_{i=0}^{N}(y_i-wx_i)^2 \\\\ \n",
    "\\large &= 2\\sum_{i=0}^{N}(y_i-wx_i)(-x_i)\n",
    "\\end{align}\n",
    "$"
   ]
  },
  {
   "cell_type": "code",
   "execution_count": 9,
   "metadata": {},
   "outputs": [],
   "source": [
    "def mse(y_true, y_pred):\n",
    "    delta = y_true - y_pred\n",
    "    return (delta**2).mean()"
   ]
  },
  {
   "cell_type": "code",
   "execution_count": 10,
   "metadata": {},
   "outputs": [
    {
     "name": "stdout",
     "output_type": "stream",
     "text": [
      "Starting the first point\n"
     ]
    }
   ],
   "source": [
    "w_history = []\n",
    "wgrad_history = []\n",
    "lr = 1e-2\n",
    "\n",
    "for i in range(10):\n",
    "    try:\n",
    "        w.grad.zero_()\n",
    "    except:\n",
    "        print(\"Starting the first point\")\n",
    "    w_history.append(w.data.clone())    \n",
    "    \n",
    "    # Calculate Loss\n",
    "    y_pred = x*w\n",
    "    loss = mse(y_true, y_pred)\n",
    "    \n",
    "    # Calculate gradients\n",
    "    loss.backward()\n",
    "    wgrad_history.append(w.grad.data.clone())\n",
    "    \n",
    "    # Update parameters\n",
    "    with torch.no_grad():\n",
    "        w -= w.grad * lr"
   ]
  },
  {
   "cell_type": "code",
   "execution_count": 11,
   "metadata": {},
   "outputs": [
    {
     "data": {
      "text/plain": [
       "[tensor([0.7358]),\n",
       " tensor([1.1509]),\n",
       " tensor([1.4899]),\n",
       " tensor([1.7667]),\n",
       " tensor([1.9928]),\n",
       " tensor([2.1775]),\n",
       " tensor([2.3283]),\n",
       " tensor([2.4514]),\n",
       " tensor([2.5520]),\n",
       " tensor([2.6341])]"
      ]
     },
     "execution_count": 11,
     "metadata": {},
     "output_type": "execute_result"
    }
   ],
   "source": [
    "w_history"
   ]
  },
  {
   "cell_type": "code",
   "execution_count": 12,
   "metadata": {},
   "outputs": [
    {
     "data": {
      "text/plain": [
       "[tensor([-41.5105]),\n",
       " tensor([-33.9002]),\n",
       " tensor([-27.6852]),\n",
       " tensor([-22.6096]),\n",
       " tensor([-18.4645]),\n",
       " tensor([-15.0793]),\n",
       " tensor([-12.3148]),\n",
       " tensor([-10.0571]),\n",
       " tensor([-8.2133]),\n",
       " tensor([-6.7075])]"
      ]
     },
     "execution_count": 12,
     "metadata": {},
     "output_type": "execute_result"
    }
   ],
   "source": [
    "wgrad_history"
   ]
  },
  {
   "cell_type": "code",
   "execution_count": 13,
   "metadata": {},
   "outputs": [
    {
     "data": {
      "image/png": "[encoded data removed]",
      "text/plain": [
       "<Figure size 432x288 with 1 Axes>"
      ]
     },
     "metadata": {
      "needs_background": "light"
     },
     "output_type": "display_data"
    }
   ],
   "source": [
    "plt.plot(w_range.detach().numpy(), w_range.grad.numpy(), linewidth=3, zorder=-1)\n",
    "plt.title(\"Loss vs Parameters\", fontsize=18)\n",
    "plt.tick_params(axis='both', labelsize=12)\n",
    "plt.xlabel('w', fontsize=16)\n",
    "plt.ylabel('loss', fontsize=16)\n",
    "plt.grid(True)\n",
    "for i in range(len(w_history)):\n",
    "    plt.scatter(w_history[i].detach(),wgrad_history[i], c=[i], s=100,vmin=0, vmax=len(w_history), cmap='jet')"
   ]
  },
  {
   "cell_type": "code",
   "execution_count": 23,
   "metadata": {},
   "outputs": [
    {
     "data": {
      "text/plain": [
       "[tensor([0.7055]), tensor([1.1262])]"
      ]
     },
     "execution_count": 23,
     "metadata": {},
     "output_type": "execute_result"
    }
   ],
   "source": [
    "w_history"
   ]
  },
  {
   "cell_type": "code",
   "execution_count": 24,
   "metadata": {},
   "outputs": [
    {
     "data": {
      "text/plain": [
       "[tensor([0.7055]), tensor([1.1262])]"
      ]
     },
     "execution_count": 24,
     "metadata": {},
     "output_type": "execute_result"
    }
   ],
   "source": [
    "w_history"
   ]
  },
  {
   "cell_type": "code",
   "execution_count": null,
   "metadata": {},
   "outputs": [],
   "source": []
  }
 ],
 "metadata": {
  "kernelspec": {
   "display_name": "Python 3",
   "language": "python",
   "name": "python3"
  },
  "language_info": {
   "codemirror_mode": {
    "name": "ipython",
    "version": 3
   },
   "file_extension": ".py",
   "mimetype": "text/x-python",
   "name": "python",
   "nbconvert_exporter": "python",
   "pygments_lexer": "ipython3",
   "version": "3.6.8"
  }
 },
 "nbformat": 4,
 "nbformat_minor": 2
}
