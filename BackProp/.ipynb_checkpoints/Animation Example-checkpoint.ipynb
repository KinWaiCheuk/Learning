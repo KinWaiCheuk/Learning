{
 "cells": [
  {
   "cell_type": "code",
   "execution_count": 1,
   "metadata": {},
   "outputs": [],
   "source": [
    "from sklearn.datasets import make_blobs\n",
    "import numpy as np\n",
    "\n",
    "import torch\n",
    "import torch.nn as nn\n",
    "import torchvision\n",
    "\n",
    "import matplotlib.pyplot as plt\n",
    "import matplotlib.animation as animation\n",
    "from mpl_toolkits.axes_grid1 import make_axes_locatable\n",
    "from IPython.display import HTML\n",
    "\n",
    "from tqdm import tqdm"
   ]
  },
  {
   "cell_type": "code",
   "execution_count": 2,
   "metadata": {},
   "outputs": [],
   "source": [
    "device = torch.device(\"cuda:0\" if torch.cuda.is_available() else \"cpu\")"
   ]
  },
  {
   "cell_type": "code",
   "execution_count": 3,
   "metadata": {},
   "outputs": [],
   "source": [
    "X, y = make_blobs(500,5,3)\n",
    "X = torch.from_numpy(X).float().to(device)\n",
    "y = torch.from_numpy(y).long().to(device)"
   ]
  },
  {
   "cell_type": "code",
   "execution_count": 4,
   "metadata": {},
   "outputs": [],
   "source": [
    "trainset = torch.utils.data.TensorDataset(X,y)\n",
    "trainloader = torch.utils.data.DataLoader(trainset,batch_size=50, shuffle=True)"
   ]
  },
  {
   "cell_type": "code",
   "execution_count": null,
   "metadata": {},
   "outputs": [],
   "source": [
    "class Model(nn.Module):\n",
    "    def __init__(self):\n",
    "        super(Model,self).__init__()\n",
    "        self.L1 = nn.Linear(5,4, bias=True)\n",
    "        torch.nn.init.zeros_(self.L1.weight)\n",
    "        torch.nn.init.zeros_(self.L1.bias)\n",
    "        self.L2 = nn.Linear(4,3, bias=True)\n",
    "        torch.nn.init.zeros_(self.L2.weight)\n",
    "        torch.nn.init.zeros_(self.L2.bias)\n",
    "\n",
    "    def forward(self,x):\n",
    "        x = self.L1(x)\n",
    "        x = self.L2(x)\n",
    "        return x"
   ]
  },
  {
   "cell_type": "code",
   "execution_count": null,
   "metadata": {},
   "outputs": [
    {
     "data": {
      "text/plain": [
       "Model(\n",
       "  (L1): Linear(in_features=5, out_features=4, bias=True)\n",
       "  (L2): Linear(in_features=4, out_features=3, bias=True)\n",
       ")"
      ]
     },
     "execution_count": 6,
     "metadata": {},
     "output_type": "execute_result"
    }
   ],
   "source": [
    "model = Model()\n",
    "model.to(device)"
   ]
  },
  {
   "cell_type": "code",
   "execution_count": null,
   "metadata": {},
   "outputs": [],
   "source": [
    "criterion = nn.CrossEntropyLoss()\n",
    "optimizer = torch.optim.ASGD(model.parameters(), lr=0.001)"
   ]
  },
  {
   "cell_type": "code",
   "execution_count": null,
   "metadata": {},
   "outputs": [],
   "source": [
    "rows = ['Layer {}'.format(row) for row in range(1,3)]"
   ]
  },
  {
   "cell_type": "code",
   "execution_count": null,
   "metadata": {},
   "outputs": [
    {
     "name": "stderr",
     "output_type": "stream",
     "text": [
      "100%|██████████| 10/10 [00:06<00:00,  1.37it/s]\n"
     ]
    },
    {
     "data": {
      "image/png": "[encoded data removed]",
      "text/plain": [
       "<Figure size 864x576 with 404 Axes>"
      ]
     },
     "metadata": {
      "needs_background": "light"
     },
     "output_type": "display_data"
    }
   ],
   "source": [
    "fig, ax = plt.subplots(2,2, figsize=(12,8))\n",
    "loss_train = []\n",
    "ims = []\n",
    "\n",
    "for e in tqdm(range(10)):\n",
    "    loss_train_e = 0.0\n",
    "    for x_batch, y_batch in trainloader:\n",
    "        optimizer.zero_grad()\n",
    "        output = model(x_batch)\n",
    "        loss = criterion(output, y_batch)\n",
    "        loss_train_e += loss.item()\n",
    "        loss.backward()\n",
    "        optimizer.step()\n",
    "        im1 = ax[0,0].imshow(model.L1.weight.cpu().detach(), cmap='jet')\n",
    "        im2 = ax[0,1].imshow(model.L1.weight.grad.cpu().detach())\n",
    "        im3 = ax[1,0].imshow(model.L2.weight.cpu().detach(), cmap='jet')\n",
    "        im4 = ax[1,1].imshow(model.L2.weight.grad.cpu().detach())\n",
    "        \n",
    "        divider1 = make_axes_locatable(ax[0,0])\n",
    "        divider2 = make_axes_locatable(ax[0,1])\n",
    "        divider3 = make_axes_locatable(ax[1,0])\n",
    "        divider4 = make_axes_locatable(ax[1,1])\n",
    "        cax1 = divider1.append_axes('right', size='5%', pad=0.05)\n",
    "        cax2 = divider2.append_axes('right', size='5%', pad=0.05) \n",
    "        cax3 = divider3.append_axes('right', size='5%', pad=0.05)\n",
    "        cax4 = divider4.append_axes('right', size='5%', pad=0.05) \n",
    "        fig.colorbar(im1, ax=ax[0,0], cax=cax1)\n",
    "        fig.colorbar(im2, ax=ax[0,1], cax=cax2)  \n",
    "        fig.colorbar(im3, ax=ax[0,0], cax=cax3)\n",
    "        fig.colorbar(im4, ax=ax[0,1], cax=cax4)\n",
    "        ims.append([im1,im2,im3,im4])\n",
    "    loss_train.append(loss_train_e)\n",
    "\n",
    "\n",
    "pad = 15\n",
    "# Annotating columns\n",
    "ax[0,0].annotate('Weight', xy=(0.5,1), xytext=(0,pad),\n",
    "               xycoords='axes fraction', textcoords='offset points',\n",
    "               size='large', ha='center', va='baseline', fontsize=18)\n",
    "\n",
    "ax[0,1].annotate('Gradient', xy=(0.5,1), xytext=(0,pad),\n",
    "               xycoords='axes fraction', textcoords='offset points',\n",
    "               size='large', ha='center', va='baseline', fontsize=18)\n",
    "     \n",
    "# Annotating rows\n",
    "\n",
    "for idx, row in enumerate(rows):\n",
    "    ax[idx,0].annotate(row, xy=(0,0.5), xytext=(-ax[idx,0].yaxis.labelpad - pad,0),\n",
    "                      xycoords=ax[idx,0].yaxis.label, textcoords='offset points',\n",
    "                      size='large', ha='right', va='center', fontsize=18)"
   ]
  },
  {
   "cell_type": "code",
   "execution_count": null,
   "metadata": {},
   "outputs": [],
   "source": [
    "ani = animation.ArtistAnimation(fig, ims, interval=150, blit=True,\n",
    "                                repeat_delay=1000)"
   ]
  },
  {
   "cell_type": "code",
   "execution_count": null,
   "metadata": {},
   "outputs": [],
   "source": [
    "HTML(ani.to_html5_video())"
   ]
  },
  {
   "cell_type": "code",
   "execution_count": null,
   "metadata": {},
   "outputs": [],
   "source": [
    "plt.imshow(model.L1.weight.cpu().detach())\n",
    "plt.colorbar()"
   ]
  },
  {
   "cell_type": "code",
   "execution_count": null,
   "metadata": {},
   "outputs": [],
   "source": [
    "plt.plot(loss_train)"
   ]
  },
  {
   "cell_type": "code",
   "execution_count": null,
   "metadata": {},
   "outputs": [],
   "source": []
  }
 ],
 "metadata": {
  "kernelspec": {
   "display_name": "Python 3",
   "language": "python",
   "name": "python3"
  },
  "language_info": {
   "codemirror_mode": {
    "name": "ipython",
    "version": 3
   },
   "file_extension": ".py",
   "mimetype": "text/x-python",
   "name": "python",
   "nbconvert_exporter": "python",
   "pygments_lexer": "ipython3",
   "version": "3.6.8"
  }
 },
 "nbformat": 4,
 "nbformat_minor": 2
}
