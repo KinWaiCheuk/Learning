{
 "cells": [
  {
   "cell_type": "code",
   "execution_count": 1,
   "metadata": {},
   "outputs": [],
   "source": [
    "import numpy as np\n",
    "\n",
    "\n",
    "import matplotlib.pyplot as plt\n",
    "import matplotlib.animation as animation\n",
    "from matplotlib.animation import PillowWriter\n",
    "from mpl_toolkits.axes_grid1 import make_axes_locatable\n",
    "from IPython.display import HTML\n",
    "\n",
    "from tqdm import tqdm"
   ]
  },
  {
   "cell_type": "code",
   "execution_count": 2,
   "metadata": {},
   "outputs": [],
   "source": [
    "M1 = np.zeros((4,4))\n",
    "M2 = np.ones((4,4))"
   ]
  },
  {
   "cell_type": "code",
   "execution_count": 3,
   "metadata": {},
   "outputs": [
    {
     "name": "stderr",
     "output_type": "stream",
     "text": [
      "100%|██████████| 10/10 [00:00<00:00, 737.47it/s]\n"
     ]
    },
    {
     "data": {
      "text/plain": [
       "Text(-19.0, 0, 'Row 1')"
      ]
     },
     "execution_count": 3,
     "metadata": {},
     "output_type": "execute_result"
    },
    {
     "data": {
      "image/png": "[encoded data removed]",
      "text/plain": [
       "<Figure size 864x576 with 4 Axes>"
      ]
     },
     "metadata": {
      "needs_background": "light"
     },
     "output_type": "display_data"
    }
   ],
   "source": [
    "fig, ax = plt.subplots(1,2, figsize=(12,8))\n",
    "ims = []\n",
    "\n",
    "for e in tqdm(range(10)):\n",
    "    M1[:,1] += e\n",
    "    M1[2,:] -= e\n",
    "    M1[2,1] += 10/(e+1)\n",
    "    \n",
    "    M2[:,1] += np.random.randn(4)\n",
    "    im1 = ax[0].imshow(M1, cmap='jet', vmax=50, vmin=-50)\n",
    "    im2 = ax[1].imshow(M2, cmap='jet', vmax=5, vmin=-5)\n",
    "\n",
    "    ims.append([im1,im2])\n",
    "divider1 = make_axes_locatable(ax[0])\n",
    "divider2 = make_axes_locatable(ax[1])\n",
    "cax1 = divider1.append_axes('right', size='5%', pad=0.05)\n",
    "cax2 = divider2.append_axes('right', size='5%', pad=0.05) \n",
    "fig.colorbar(im1, ax=ax[0], cax=cax1)\n",
    "fig.colorbar(im2, ax=ax[1], cax=cax2)          \n",
    "    \n",
    "ax[0].axis('off')\n",
    "ax[1].axis('off')\n",
    "\n",
    "    \n",
    "\n",
    "pad = 15\n",
    "# Annotating columns\n",
    "ax[0].annotate('Weight', xy=(0.5,1), xytext=(0,pad),\n",
    "               xycoords='axes fraction', textcoords='offset points',\n",
    "               size='large', ha='center', va='baseline', fontsize=18)\n",
    "\n",
    "ax[1].annotate('Gradient', xy=(0.5,1), xytext=(0,pad),\n",
    "               xycoords='axes fraction', textcoords='offset points',\n",
    "               size='large', ha='center', va='baseline', fontsize=18)\n",
    "     \n",
    "# Annotating rows\n",
    "\n",
    "row = 'Row 1'\n",
    "ax[0].annotate(row, xy=(0,0.5), xytext=(-ax[0].yaxis.labelpad - pad,0),\n",
    "                  xycoords=ax[0].yaxis.label, textcoords='offset points',\n",
    "                  size='large', ha='right', va='center', fontsize=18)"
   ]
  },
  {
   "cell_type": "code",
   "execution_count": 4,
   "metadata": {},
   "outputs": [],
   "source": [
    "ani = animation.ArtistAnimation(fig, ims, interval=500, blit=True,\n",
    "                                repeat_delay=1000)"
   ]
  },
  {
   "cell_type": "code",
   "execution_count": 5,
   "metadata": {},
   "outputs": [],
   "source": [
    "ani.save('wrongcolor.gif', dpi=80, writer='imagemagick')\n",
    "# HTML(ani.to_html5_video())"
   ]
  }
 ],
 "metadata": {
  "kernelspec": {
   "display_name": "Python 3",
   "language": "python",
   "name": "python3"
  },
  "language_info": {
   "codemirror_mode": {
    "name": "ipython",
    "version": 3
   },
   "file_extension": ".py",
   "mimetype": "text/x-python",
   "name": "python",
   "nbconvert_exporter": "python",
   "pygments_lexer": "ipython3",
   "version": "3.6.8"
  }
 },
 "nbformat": 4,
 "nbformat_minor": 2
}
